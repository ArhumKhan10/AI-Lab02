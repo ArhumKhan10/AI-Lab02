{
 "cells": [
  {
   "cell_type": "markdown",
   "metadata": {},
   "source": [
    "### Task 1"
   ]
  },
  {
   "cell_type": "code",
   "execution_count": 4,
   "metadata": {},
   "outputs": [],
   "source": [
    "import pandas as pd\n",
    "import numpy as np"
   ]
  },
  {
   "cell_type": "code",
   "execution_count": 5,
   "metadata": {},
   "outputs": [],
   "source": [
    "data = pd.read_csv('vgsalesGlobale.csv')"
   ]
  },
  {
   "cell_type": "code",
   "execution_count": 6,
   "metadata": {},
   "outputs": [
    {
     "name": "stdout",
     "output_type": "stream",
     "text": [
      "8920.44\n"
     ]
    }
   ],
   "source": [
    "# * Calculate the total global sales for all games in the dataset.\n",
    "total_sales = data['Global_Sales'].sum()\n",
    "print(total_sales)"
   ]
  },
  {
   "cell_type": "code",
   "execution_count": 40,
   "metadata": {},
   "outputs": [
    {
     "name": "stdout",
     "output_type": "stream",
     "text": [
      "82.74\n"
     ]
    }
   ],
   "source": [
    "# * Find the game with the highest global sales.\n",
    "highest_sales = data['Global_Sales'].max()\n",
    "\n",
    "# Printing the name of the game with the highest global sales\n",
    "print(highest_sales)"
   ]
  },
  {
   "cell_type": "code",
   "execution_count": 8,
   "metadata": {},
   "outputs": [
    {
     "name": "stdout",
     "output_type": "stream",
     "text": [
      "NA_Sales       0.264667\n",
      "EU_Sales       0.146652\n",
      "JP_Sales       0.077782\n",
      "Other_Sales    0.048063\n",
      "dtype: float64\n"
     ]
    }
   ],
   "source": [
    "# Determine the average sales for each region (NA_Sales, EU_Sales, JP_Sales, Other_Sales).\n",
    "average_sales = data[['NA_Sales', 'EU_Sales', 'JP_Sales', 'Other_Sales']].mean()\n",
    "print(average_sales)"
   ]
  },
  {
   "cell_type": "code",
   "execution_count": 10,
   "metadata": {},
   "outputs": [
    {
     "name": "stdout",
     "output_type": "stream",
     "text": [
      "Genre\n",
      "Action          1751.18\n",
      "Sports          1330.93\n",
      "Shooter         1037.37\n",
      "Role-Playing     927.37\n",
      "Platform         831.37\n",
      "Name: Global_Sales, dtype: float64\n"
     ]
    }
   ],
   "source": [
    "# Find the top 5 most popular game genres based on global sales.\n",
    "top_5_genres = data.groupby('Genre')['Global_Sales'].sum().sort_values(ascending=False).head(5)\n",
    "print(top_5_genres)"
   ]
  },
  {
   "cell_type": "code",
   "execution_count": 12,
   "metadata": {},
   "outputs": [
    {
     "name": "stdout",
     "output_type": "stream",
     "text": [
      "Action\n"
     ]
    }
   ],
   "source": [
    "# Calculate the total sales for each genre in each region and find the most popular genre in North America (NA_Sales).\n",
    "total_sales_per_genre = data.groupby('Genre')[['NA_Sales', 'EU_Sales', 'JP_Sales', 'Other_Sales']].sum()\n",
    "most_popular_genre = total_sales_per_genre['NA_Sales'].idxmax()\n",
    "print(most_popular_genre)"
   ]
  },
  {
   "cell_type": "code",
   "execution_count": 13,
   "metadata": {},
   "outputs": [
    {
     "data": {
      "text/html": [
       "<div>\n",
       "<style scoped>\n",
       "    .dataframe tbody tr th:only-of-type {\n",
       "        vertical-align: middle;\n",
       "    }\n",
       "\n",
       "    .dataframe tbody tr th {\n",
       "        vertical-align: top;\n",
       "    }\n",
       "\n",
       "    .dataframe thead th {\n",
       "        text-align: right;\n",
       "    }\n",
       "</style>\n",
       "<table border=\"1\" class=\"dataframe\">\n",
       "  <thead>\n",
       "    <tr style=\"text-align: right;\">\n",
       "      <th></th>\n",
       "      <th>Rank</th>\n",
       "      <th>Name</th>\n",
       "      <th>Platform</th>\n",
       "      <th>Year</th>\n",
       "      <th>Genre</th>\n",
       "      <th>Publisher</th>\n",
       "      <th>NA_Sales</th>\n",
       "      <th>EU_Sales</th>\n",
       "      <th>JP_Sales</th>\n",
       "      <th>Other_Sales</th>\n",
       "      <th>Global_Sales</th>\n",
       "    </tr>\n",
       "  </thead>\n",
       "  <tbody>\n",
       "    <tr>\n",
       "      <th>16588</th>\n",
       "      <td>16591</td>\n",
       "      <td>Mega Brain Boost</td>\n",
       "      <td>DS</td>\n",
       "      <td>2008.0</td>\n",
       "      <td>Puzzle</td>\n",
       "      <td>Majesco Entertainment</td>\n",
       "      <td>0.01</td>\n",
       "      <td>0.00</td>\n",
       "      <td>0.00</td>\n",
       "      <td>0.0</td>\n",
       "      <td>0.01</td>\n",
       "    </tr>\n",
       "    <tr>\n",
       "      <th>16589</th>\n",
       "      <td>16592</td>\n",
       "      <td>Chou Ezaru wa Akai Hana: Koi wa Tsuki ni Shiru...</td>\n",
       "      <td>PSV</td>\n",
       "      <td>2016.0</td>\n",
       "      <td>Action</td>\n",
       "      <td>dramatic create</td>\n",
       "      <td>0.00</td>\n",
       "      <td>0.00</td>\n",
       "      <td>0.01</td>\n",
       "      <td>0.0</td>\n",
       "      <td>0.01</td>\n",
       "    </tr>\n",
       "    <tr>\n",
       "      <th>16590</th>\n",
       "      <td>16593</td>\n",
       "      <td>Eiyuu Densetsu: Sora no Kiseki Material Collec...</td>\n",
       "      <td>PSP</td>\n",
       "      <td>2007.0</td>\n",
       "      <td>Role-Playing</td>\n",
       "      <td>Falcom Corporation</td>\n",
       "      <td>0.00</td>\n",
       "      <td>0.00</td>\n",
       "      <td>0.01</td>\n",
       "      <td>0.0</td>\n",
       "      <td>0.01</td>\n",
       "    </tr>\n",
       "    <tr>\n",
       "      <th>16591</th>\n",
       "      <td>16594</td>\n",
       "      <td>Myst IV: Revelation</td>\n",
       "      <td>PC</td>\n",
       "      <td>2004.0</td>\n",
       "      <td>Adventure</td>\n",
       "      <td>Ubisoft</td>\n",
       "      <td>0.01</td>\n",
       "      <td>0.00</td>\n",
       "      <td>0.00</td>\n",
       "      <td>0.0</td>\n",
       "      <td>0.01</td>\n",
       "    </tr>\n",
       "    <tr>\n",
       "      <th>16592</th>\n",
       "      <td>16595</td>\n",
       "      <td>Plushees</td>\n",
       "      <td>DS</td>\n",
       "      <td>2008.0</td>\n",
       "      <td>Simulation</td>\n",
       "      <td>Destineer</td>\n",
       "      <td>0.01</td>\n",
       "      <td>0.00</td>\n",
       "      <td>0.00</td>\n",
       "      <td>0.0</td>\n",
       "      <td>0.01</td>\n",
       "    </tr>\n",
       "    <tr>\n",
       "      <th>16593</th>\n",
       "      <td>16596</td>\n",
       "      <td>Woody Woodpecker in Crazy Castle 5</td>\n",
       "      <td>GBA</td>\n",
       "      <td>2002.0</td>\n",
       "      <td>Platform</td>\n",
       "      <td>Kemco</td>\n",
       "      <td>0.01</td>\n",
       "      <td>0.00</td>\n",
       "      <td>0.00</td>\n",
       "      <td>0.0</td>\n",
       "      <td>0.01</td>\n",
       "    </tr>\n",
       "    <tr>\n",
       "      <th>16594</th>\n",
       "      <td>16597</td>\n",
       "      <td>Men in Black II: Alien Escape</td>\n",
       "      <td>GC</td>\n",
       "      <td>2003.0</td>\n",
       "      <td>Shooter</td>\n",
       "      <td>Infogrames</td>\n",
       "      <td>0.01</td>\n",
       "      <td>0.00</td>\n",
       "      <td>0.00</td>\n",
       "      <td>0.0</td>\n",
       "      <td>0.01</td>\n",
       "    </tr>\n",
       "    <tr>\n",
       "      <th>16595</th>\n",
       "      <td>16598</td>\n",
       "      <td>SCORE International Baja 1000: The Official Game</td>\n",
       "      <td>PS2</td>\n",
       "      <td>2008.0</td>\n",
       "      <td>Racing</td>\n",
       "      <td>Activision</td>\n",
       "      <td>0.00</td>\n",
       "      <td>0.00</td>\n",
       "      <td>0.00</td>\n",
       "      <td>0.0</td>\n",
       "      <td>0.01</td>\n",
       "    </tr>\n",
       "    <tr>\n",
       "      <th>16596</th>\n",
       "      <td>16599</td>\n",
       "      <td>Know How 2</td>\n",
       "      <td>DS</td>\n",
       "      <td>2010.0</td>\n",
       "      <td>Puzzle</td>\n",
       "      <td>7G//AMES</td>\n",
       "      <td>0.00</td>\n",
       "      <td>0.01</td>\n",
       "      <td>0.00</td>\n",
       "      <td>0.0</td>\n",
       "      <td>0.01</td>\n",
       "    </tr>\n",
       "    <tr>\n",
       "      <th>16597</th>\n",
       "      <td>16600</td>\n",
       "      <td>Spirits &amp; Spells</td>\n",
       "      <td>GBA</td>\n",
       "      <td>2003.0</td>\n",
       "      <td>Platform</td>\n",
       "      <td>Wanadoo</td>\n",
       "      <td>0.01</td>\n",
       "      <td>0.00</td>\n",
       "      <td>0.00</td>\n",
       "      <td>0.0</td>\n",
       "      <td>0.01</td>\n",
       "    </tr>\n",
       "  </tbody>\n",
       "</table>\n",
       "</div>"
      ],
      "text/plain": [
       "        Rank                                               Name Platform  \\\n",
       "16588  16591                                   Mega Brain Boost       DS   \n",
       "16589  16592  Chou Ezaru wa Akai Hana: Koi wa Tsuki ni Shiru...      PSV   \n",
       "16590  16593  Eiyuu Densetsu: Sora no Kiseki Material Collec...      PSP   \n",
       "16591  16594                                Myst IV: Revelation       PC   \n",
       "16592  16595                                           Plushees       DS   \n",
       "16593  16596                 Woody Woodpecker in Crazy Castle 5      GBA   \n",
       "16594  16597                      Men in Black II: Alien Escape       GC   \n",
       "16595  16598   SCORE International Baja 1000: The Official Game      PS2   \n",
       "16596  16599                                         Know How 2       DS   \n",
       "16597  16600                                   Spirits & Spells      GBA   \n",
       "\n",
       "         Year         Genre              Publisher  NA_Sales  EU_Sales  \\\n",
       "16588  2008.0        Puzzle  Majesco Entertainment      0.01      0.00   \n",
       "16589  2016.0        Action        dramatic create      0.00      0.00   \n",
       "16590  2007.0  Role-Playing     Falcom Corporation      0.00      0.00   \n",
       "16591  2004.0     Adventure                Ubisoft      0.01      0.00   \n",
       "16592  2008.0    Simulation              Destineer      0.01      0.00   \n",
       "16593  2002.0      Platform                  Kemco      0.01      0.00   \n",
       "16594  2003.0       Shooter             Infogrames      0.01      0.00   \n",
       "16595  2008.0        Racing             Activision      0.00      0.00   \n",
       "16596  2010.0        Puzzle               7G//AMES      0.00      0.01   \n",
       "16597  2003.0      Platform                Wanadoo      0.01      0.00   \n",
       "\n",
       "       JP_Sales  Other_Sales  Global_Sales  \n",
       "16588      0.00          0.0          0.01  \n",
       "16589      0.01          0.0          0.01  \n",
       "16590      0.01          0.0          0.01  \n",
       "16591      0.00          0.0          0.01  \n",
       "16592      0.00          0.0          0.01  \n",
       "16593      0.00          0.0          0.01  \n",
       "16594      0.00          0.0          0.01  \n",
       "16595      0.00          0.0          0.01  \n",
       "16596      0.00          0.0          0.01  \n",
       "16597      0.00          0.0          0.01  "
      ]
     },
     "execution_count": 13,
     "metadata": {},
     "output_type": "execute_result"
    }
   ],
   "source": [
    "# Print the last 10 rows.\n",
    "data.tail(10)"
   ]
  },
  {
   "cell_type": "code",
   "execution_count": 14,
   "metadata": {},
   "outputs": [
    {
     "name": "stdout",
     "output_type": "stream",
     "text": [
      "Platform\n",
      "PS2     1255.64\n",
      "X360     979.96\n",
      "PS3      957.84\n",
      "Name: Global_Sales, dtype: float64\n"
     ]
    }
   ],
   "source": [
    "# Determine the top 3 gaming platforms with the highest global sales.\n",
    "top_3_platforms = data.groupby('Platform')['Global_Sales'].sum().sort_values(ascending=False).head(3)\n",
    "print(top_3_platforms)"
   ]
  },
  {
   "cell_type": "code",
   "execution_count": 15,
   "metadata": {},
   "outputs": [
    {
     "name": "stdout",
     "output_type": "stream",
     "text": [
      "Genre\n",
      "Action          19.631094\n",
      "Adventure        2.679688\n",
      "Fighting         5.032375\n",
      "Misc             9.079821\n",
      "Platform         9.319832\n",
      "Puzzle           2.745941\n",
      "Racing           8.206322\n",
      "Role-Playing    10.396012\n",
      "Shooter         11.629135\n",
      "Simulation       4.396644\n",
      "Sports          14.920004\n",
      "Strategy         1.963132\n",
      "Name: Global_Sales, dtype: float64\n"
     ]
    }
   ],
   "source": [
    "#  Calculate the market share (percentage of global sales) for each genre.\n",
    "market_share = data.groupby('Genre')['Global_Sales'].sum() / total_sales * 100\n",
    "print(market_share)"
   ]
  },
  {
   "cell_type": "code",
   "execution_count": 16,
   "metadata": {},
   "outputs": [
    {
     "name": "stdout",
     "output_type": "stream",
     "text": [
      "0.767726748370264\n"
     ]
    }
   ],
   "source": [
    "# * Calculate the correlation coefficient between NA_Sales and EU_Sales. (.corr function)\n",
    "correlation = data['NA_Sales'].corr(data['EU_Sales'])\n",
    "print(correlation)"
   ]
  },
  {
   "cell_type": "markdown",
   "metadata": {},
   "source": [
    "### Task 2"
   ]
  },
  {
   "cell_type": "code",
   "execution_count": 22,
   "metadata": {},
   "outputs": [
    {
     "name": "stdout",
     "output_type": "stream",
     "text": [
      "Word not found in dictionary.\n",
      "Word not found in dictionary.\n",
      "Word not found in dictionary.\n",
      "The Spanish translation is: buenos días\n",
      "Word not found in dictionary.\n"
     ]
    }
   ],
   "source": [
    "# English to Spanish\n",
    "english_spanish = {\n",
    "    'hello': 'hola',\n",
    "    'goodbye': 'adiós',\n",
    "    'thank you': 'gracias',\n",
    "    'please': 'por favor',\n",
    "    'good morning': 'buenos días',\n",
    "    'good night': 'buenas noches',\n",
    "    'yes': 'sí',\n",
    "    'no': 'no',\n",
    "    'water': 'agua',\n",
    "    'food': 'comida'\n",
    "}\n",
    "\n",
    "# Ask user for input\n",
    "while True:\n",
    "    word = input('Enter a word: ').lower()\n",
    "    if word == 'exit':\n",
    "        break\n",
    "    if word in english_spanish:\n",
    "        print(f'The Spanish translation is: {english_spanish[word]}')\n",
    "    else:\n",
    "        print('Word not found in dictionary.')"
   ]
  },
  {
   "cell_type": "markdown",
   "metadata": {},
   "source": [
    "### Task 3"
   ]
  },
  {
   "cell_type": "code",
   "execution_count": 27,
   "metadata": {},
   "outputs": [
    {
     "name": "stdout",
     "output_type": "stream",
     "text": [
      "Important Emails: ['Urgent: Meeting scheduled for tomorrow', 'Project deadline extended to next week']\n",
      "Promotional Emails: ['Huge Discount on all products! Limited time offer']\n",
      "Spam Emails: ['You have won a lottery! Click here to claim', 'Claim your free money now! Limited slots available']\n"
     ]
    }
   ],
   "source": [
    "# Function to classify emails into multiple types\n",
    "def classify_emails(emails):\n",
    "    important_keywords = {\"meeting\", \"urgent\", \"project\", \"deadline\", \"client\"}\n",
    "    promotion_keywords = {\"sale\", \"discount\", \"offer\", \"deal\", \"coupon\"}\n",
    "    spam_keywords = {\"lottery\", \"win\", \"prize\", \"free money\", \"click here\"}\n",
    "    \n",
    "    important = []\n",
    "    promotions = []\n",
    "    spam = []\n",
    "    \n",
    "    # Convert emails to lowercase for case-insensitive matching and then classify them\n",
    "    for email in emails:\n",
    "        email_lower = email.lower()\n",
    "        \n",
    "        if any(keyword in email_lower for keyword in important_keywords):\n",
    "            important.append(email)\n",
    "        elif any(keyword in email_lower for keyword in promotion_keywords):\n",
    "            promotions.append(email)\n",
    "        elif any(keyword in email_lower for keyword in spam_keywords):\n",
    "            spam.append(email)\n",
    "        else:\n",
    "            important.append(email)\n",
    "    \n",
    "    return important, promotions, spam\n",
    "\n",
    "# Sample emails\n",
    "sample_emails = [\n",
    "    \"Urgent: Meeting scheduled for tomorrow\",\n",
    "    \"Huge Discount on all products! Limited time offer\",\n",
    "    \"You have won a lottery! Click here to claim\",\n",
    "    \"Project deadline extended to next week\",\n",
    "    \"Claim your free money now! Limited slots available\"\n",
    "]\n",
    "\n",
    "# Classify sample emails\n",
    "important_emails, promotional_emails, spam_emails = classify_emails(sample_emails)\n",
    "\n",
    "# Print the results\n",
    "print(\"Important Emails:\", important_emails)\n",
    "print(\"Promotional Emails:\", promotional_emails)\n",
    "print(\"Spam Emails:\", spam_emails)\n"
   ]
  },
  {
   "cell_type": "markdown",
   "metadata": {},
   "source": [
    "### Task 4"
   ]
  },
  {
   "cell_type": "code",
   "execution_count": 45,
   "metadata": {},
   "outputs": [
    {
     "name": "stdout",
     "output_type": "stream",
     "text": [
      "Welcome to the Online Store!\n",
      "Available products:\n",
      "1: Laptop\n",
      "2: Headphones\n",
      "3: Smartphone\n",
      "4: Tablet\n",
      "5: Charger\n",
      "6: Backpack\n",
      "7: Mouse\n",
      "8: Keyboard\n",
      "9: Monitor\n",
      "10: External Hard Drive\n",
      "Enter 'q' to quit and proceed to checkout.\n",
      "'Headphones' added to cart.\n",
      "'Smartphone' added to cart.\n",
      "'Laptop' added to cart.\n",
      "'Headphones' added to cart.\n",
      "Invalid choice. Please select a valid product number.\n",
      "'Charger' added to cart.\n",
      "'Headphones' added to cart.\n",
      "Invalid choice. Please select a valid product number.\n",
      "\n",
      "Your Shopping Cart:\n",
      "- Headphones\n",
      "- Smartphone\n",
      "- Laptop\n",
      "- Headphones\n",
      "- Charger\n",
      "- Headphones\n",
      "Thank you for shopping with us!\n"
     ]
    }
   ],
   "source": [
    "# Store Simulation\n",
    "def online_store_shopping_cart():\n",
    "    products = {\n",
    "        1: \"Laptop\",\n",
    "        2: \"Headphones\",\n",
    "        3: \"Smartphone\",\n",
    "        4: \"Tablet\",\n",
    "        5: \"Charger\",\n",
    "        6: \"Backpack\",\n",
    "        7: \"Mouse\",\n",
    "        8: \"Keyboard\",\n",
    "        9: \"Monitor\",\n",
    "        10: \"External Hard Drive\"\n",
    "    }\n",
    "    \n",
    "    shopping_cart = []\n",
    "    \n",
    "    print(\"Welcome to the Online Store!\")\n",
    "    print(\"Available products:\")\n",
    "    for key, value in products.items():\n",
    "        print(f\"{key}: {value}\")\n",
    "    print(\"Enter 'q' to quit and proceed to checkout.\")\n",
    "    \n",
    "    while True:\n",
    "        choice = input(\"Enter the number of the product to add to cart: \")\n",
    "        \n",
    "        if choice.lower() == 'q':\n",
    "            break\n",
    "        \n",
    "        if choice.isdigit():\n",
    "            choice = int(choice)\n",
    "            if choice in products:\n",
    "                shopping_cart.append(products[choice])\n",
    "                print(f\"'{products[choice]}' added to cart.\")\n",
    "            else:\n",
    "                print(\"Invalid choice. Please select a valid product number.\")\n",
    "        else:\n",
    "            print(\"Invalid input. Please enter a number or 'q' to quit.\")\n",
    "    \n",
    "    print(\"\\nYour Shopping Cart:\")\n",
    "    if shopping_cart:\n",
    "        for item in shopping_cart:\n",
    "            print(f\"- {item}\")\n",
    "    else:\n",
    "        print(\"Your cart is empty.\")\n",
    "    \n",
    "    print(\"Thank you for shopping with us!\")\n",
    "\n",
    "# Run the shopping cart function\n",
    "online_store_shopping_cart()"
   ]
  },
  {
   "cell_type": "markdown",
   "metadata": {},
   "source": [
    "### Task 5"
   ]
  },
  {
   "cell_type": "code",
   "execution_count": 49,
   "metadata": {},
   "outputs": [
    {
     "name": "stdout",
     "output_type": "stream",
     "text": [
      "[ 7  9 11 13 15]\n",
      "[ 6 14 24 36 50]\n"
     ]
    }
   ],
   "source": [
    "arr1 = np.array([1, 2, 3, 4, 5])\n",
    "arr2 = np.array([6, 7, 8, 9, 10])\n",
    "\n",
    "# Element-wise addition\n",
    "result = arr1 + arr2\n",
    "print(result)\n",
    "\n",
    "# Element-wise product\n",
    "product = arr1 * arr2\n",
    "print(product)"
   ]
  },
  {
   "cell_type": "markdown",
   "metadata": {},
   "source": [
    "### Task 6"
   ]
  },
  {
   "cell_type": "code",
   "execution_count": 53,
   "metadata": {},
   "outputs": [
    {
     "name": "stdout",
     "output_type": "stream",
     "text": [
      "[[ 1  2  3  4]\n",
      " [ 5  6  7  8]\n",
      " [ 9 10 12 13]]\n",
      "[1 2 3 4 5 6]\n",
      "[[1 2 3]\n",
      " [4 5 6]]\n"
     ]
    }
   ],
   "source": [
    "# Create a 1D array\n",
    "arr1 = np.array([1, 2, 3, 4, 5, 6, 7, 8, 9, 10, 12, 13])\n",
    "\n",
    "# Reshape the 1D array into a 2D array with dimensions (3, 4)\n",
    "arr2d = arr1.reshape(3, 4)\n",
    "\n",
    "# Create two 1D arrays\n",
    "arr1 = np.array([1, 2, 3])\n",
    "arr2 = np.array([4, 5, 6])\n",
    "\n",
    "# Concatenate the arrays horizontally\n",
    "horizontal = np.hstack((arr1, arr2))\n",
    "\n",
    "# Concatenate the arrays vertically\n",
    "vertical = np.vstack((arr1, arr2))\n",
    "\n",
    "# Print the arrays\n",
    "print(arr2d)\n",
    "print(horizontal)\n",
    "print(vertical)"
   ]
  },
  {
   "cell_type": "markdown",
   "metadata": {},
   "source": [
    "### Task 7"
   ]
  },
  {
   "cell_type": "code",
   "execution_count": 59,
   "metadata": {},
   "outputs": [
    {
     "name": "stdout",
     "output_type": "stream",
     "text": [
      "[10, 9, 8, 7, 6, 5, 4, 3, 2, 1]\n"
     ]
    }
   ],
   "source": [
    "list1 = [1, 2, 3, 4, 5, 6, 7, 8, 9, 10]\n",
    "list1 = list1[::-1]\n",
    "print(list1)"
   ]
  }
 ],
 "metadata": {
  "kernelspec": {
   "display_name": "Python 3",
   "language": "python",
   "name": "python3"
  },
  "language_info": {
   "codemirror_mode": {
    "name": "ipython",
    "version": 3
   },
   "file_extension": ".py",
   "mimetype": "text/x-python",
   "name": "python",
   "nbconvert_exporter": "python",
   "pygments_lexer": "ipython3",
   "version": "3.12.0"
  }
 },
 "nbformat": 4,
 "nbformat_minor": 2
}
